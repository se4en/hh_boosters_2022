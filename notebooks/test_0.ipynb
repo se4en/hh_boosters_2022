{
 "cells": [
  {
   "cell_type": "code",
   "execution_count": 1,
   "id": "funded-prior",
   "metadata": {},
   "outputs": [],
   "source": [
    "import pandas as pd\n",
    "import numpy as np\n",
    "import re\n",
    "\n",
    "from sklearn.model_selection import train_test_split"
   ]
  },
  {
   "cell_type": "code",
   "execution_count": 2,
   "id": "informal-funeral",
   "metadata": {},
   "outputs": [],
   "source": [
    "TRAIN_PATH = \"../data/HeadHunter_train_orig.csv\"\n",
    "TEST_PATH = \"../data/HeadHunter_test.csv\"\n",
    "\n",
    "NEW_TRAIN_PATH = \"../data/HeadHunter_train.csv\"\n",
    "NEW_VAL_PATH = \"../data/HeadHunter_val.csv\""
   ]
  },
  {
   "cell_type": "code",
   "execution_count": null,
   "id": "special-mexico",
   "metadata": {},
   "outputs": [],
   "source": []
  },
  {
   "cell_type": "code",
   "execution_count": null,
   "id": "seasonal-apparel",
   "metadata": {},
   "outputs": [],
   "source": []
  },
  {
   "cell_type": "code",
   "execution_count": null,
   "id": "wired-luther",
   "metadata": {},
   "outputs": [],
   "source": []
  },
  {
   "cell_type": "code",
   "execution_count": 31,
   "id": "downtown-freeware",
   "metadata": {},
   "outputs": [],
   "source": [
    "true_s = \"Когда я закончила универ и искала работу, в «******» открылась вакансия дизайнера.\"\n",
    "true_s_1 = \"****** открылась вакансия дизайнера.\"\n",
    "false_s = \"**************\""
   ]
  },
  {
   "cell_type": "code",
   "execution_count": 98,
   "id": "sacred-prague",
   "metadata": {},
   "outputs": [],
   "source": [
    "pattern = r'([^\\*]|^)\\*{6}([^\\*])'"
   ]
  },
  {
   "cell_type": "code",
   "execution_count": 99,
   "id": "congressional-enhancement",
   "metadata": {},
   "outputs": [
    {
     "data": {
      "text/plain": [
       "'Когда я закончила универ и искала работу, в «компания» открылась вакансия дизайнера.'"
      ]
     },
     "execution_count": 99,
     "metadata": {},
     "output_type": "execute_result"
    }
   ],
   "source": [
    "re.sub(pattern, r'\\1компания\\2', true_s)"
   ]
  },
  {
   "cell_type": "code",
   "execution_count": 103,
   "id": "ahead-science",
   "metadata": {},
   "outputs": [
    {
     "data": {
      "text/plain": [
       "'компания открылась вакансия дизайнера.'"
      ]
     },
     "execution_count": 103,
     "metadata": {},
     "output_type": "execute_result"
    }
   ],
   "source": [
    "re.sub(pattern, r'\\1компания\\2', true_s_1)"
   ]
  },
  {
   "cell_type": "code",
   "execution_count": 102,
   "id": "shaped-engine",
   "metadata": {},
   "outputs": [
    {
     "data": {
      "text/plain": [
       "'**************'"
      ]
     },
     "execution_count": 102,
     "metadata": {},
     "output_type": "execute_result"
    }
   ],
   "source": [
    "re.sub(pattern, r'\\1компания\\2', false_s)"
   ]
  },
  {
   "cell_type": "code",
   "execution_count": null,
   "id": "unknown-preference",
   "metadata": {},
   "outputs": [],
   "source": []
  },
  {
   "cell_type": "code",
   "execution_count": null,
   "id": "straight-hypothetical",
   "metadata": {},
   "outputs": [],
   "source": []
  },
  {
   "cell_type": "code",
   "execution_count": null,
   "id": "purple-democracy",
   "metadata": {},
   "outputs": [],
   "source": []
  },
  {
   "cell_type": "code",
   "execution_count": 3,
   "id": "convinced-bargain",
   "metadata": {},
   "outputs": [],
   "source": [
    "train = pd.read_csv(TRAIN_PATH)\n",
    "test = pd.read_csv(TEST_PATH)"
   ]
  },
  {
   "cell_type": "code",
   "execution_count": 5,
   "id": "labeled-onion",
   "metadata": {},
   "outputs": [
    {
     "data": {
      "text/html": [
       "<div>\n",
       "<style scoped>\n",
       "    .dataframe tbody tr th:only-of-type {\n",
       "        vertical-align: middle;\n",
       "    }\n",
       "\n",
       "    .dataframe tbody tr th {\n",
       "        vertical-align: top;\n",
       "    }\n",
       "\n",
       "    .dataframe thead th {\n",
       "        text-align: right;\n",
       "    }\n",
       "</style>\n",
       "<table border=\"1\" class=\"dataframe\">\n",
       "  <thead>\n",
       "    <tr style=\"text-align: right;\">\n",
       "      <th></th>\n",
       "      <th>review_id</th>\n",
       "      <th>city</th>\n",
       "      <th>position</th>\n",
       "      <th>positive</th>\n",
       "      <th>negative</th>\n",
       "      <th>salary_rating</th>\n",
       "      <th>team_rating</th>\n",
       "      <th>managment_rating</th>\n",
       "      <th>career_rating</th>\n",
       "      <th>workplace_rating</th>\n",
       "      <th>rest_recovery_rating</th>\n",
       "      <th>target</th>\n",
       "    </tr>\n",
       "  </thead>\n",
       "  <tbody>\n",
       "    <tr>\n",
       "      <th>0</th>\n",
       "      <td>0</td>\n",
       "      <td>Ижевск</td>\n",
       "      <td>Кладовщик</td>\n",
       "      <td>Недавно устроился в ****** на должность кладов...</td>\n",
       "      <td>Повысить з/п</td>\n",
       "      <td>5</td>\n",
       "      <td>4</td>\n",
       "      <td>3</td>\n",
       "      <td>3</td>\n",
       "      <td>4</td>\n",
       "      <td>4</td>\n",
       "      <td>0</td>\n",
       "    </tr>\n",
       "    <tr>\n",
       "      <th>1</th>\n",
       "      <td>1</td>\n",
       "      <td>Москва</td>\n",
       "      <td>Руководитель проекта</td>\n",
       "      <td>Расположение офиса, своего рода стабильность (...</td>\n",
       "      <td>Упростить процессы - все процессы ради процесс...</td>\n",
       "      <td>4</td>\n",
       "      <td>4</td>\n",
       "      <td>4</td>\n",
       "      <td>1</td>\n",
       "      <td>1</td>\n",
       "      <td>1</td>\n",
       "      <td>8</td>\n",
       "    </tr>\n",
       "    <tr>\n",
       "      <th>2</th>\n",
       "      <td>2</td>\n",
       "      <td>Екатеринбург</td>\n",
       "      <td>Консультант</td>\n",
       "      <td>В нашем банке все по закону в плане зарплаты и...</td>\n",
       "      <td>Ничего</td>\n",
       "      <td>5</td>\n",
       "      <td>5</td>\n",
       "      <td>5</td>\n",
       "      <td>5</td>\n",
       "      <td>5</td>\n",
       "      <td>5</td>\n",
       "      <td>0</td>\n",
       "    </tr>\n",
       "    <tr>\n",
       "      <th>3</th>\n",
       "      <td>5</td>\n",
       "      <td>Санкт-Петербург</td>\n",
       "      <td>Оператор</td>\n",
       "      <td>Я в ****** около года работаю оператором. Норм...</td>\n",
       "      <td>Нет.</td>\n",
       "      <td>5</td>\n",
       "      <td>5</td>\n",
       "      <td>5</td>\n",
       "      <td>5</td>\n",
       "      <td>5</td>\n",
       "      <td>5</td>\n",
       "      <td>0</td>\n",
       "    </tr>\n",
       "    <tr>\n",
       "      <th>4</th>\n",
       "      <td>7</td>\n",
       "      <td>Москва</td>\n",
       "      <td>Инженер КИПиА</td>\n",
       "      <td>В принципе норм.Работать можно</td>\n",
       "      <td>Всегда есть к чему стремиться</td>\n",
       "      <td>4</td>\n",
       "      <td>5</td>\n",
       "      <td>4</td>\n",
       "      <td>2</td>\n",
       "      <td>5</td>\n",
       "      <td>2</td>\n",
       "      <td>8</td>\n",
       "    </tr>\n",
       "  </tbody>\n",
       "</table>\n",
       "</div>"
      ],
      "text/plain": [
       "   review_id             city              position  \\\n",
       "0          0           Ижевск             Кладовщик   \n",
       "1          1           Москва  Руководитель проекта   \n",
       "2          2     Екатеринбург           Консультант   \n",
       "3          5  Санкт-Петербург              Оператор   \n",
       "4          7           Москва         Инженер КИПиА   \n",
       "\n",
       "                                            positive  \\\n",
       "0  Недавно устроился в ****** на должность кладов...   \n",
       "1  Расположение офиса, своего рода стабильность (...   \n",
       "2  В нашем банке все по закону в плане зарплаты и...   \n",
       "3  Я в ****** около года работаю оператором. Норм...   \n",
       "4                     В принципе норм.Работать можно   \n",
       "\n",
       "                                            negative  salary_rating  \\\n",
       "0                                       Повысить з/п              5   \n",
       "1  Упростить процессы - все процессы ради процесс...              4   \n",
       "2                                             Ничего              5   \n",
       "3                                               Нет.              5   \n",
       "4                      Всегда есть к чему стремиться              4   \n",
       "\n",
       "   team_rating  managment_rating  career_rating  workplace_rating  \\\n",
       "0            4                 3              3                 4   \n",
       "1            4                 4              1                 1   \n",
       "2            5                 5              5                 5   \n",
       "3            5                 5              5                 5   \n",
       "4            5                 4              2                 5   \n",
       "\n",
       "   rest_recovery_rating target  \n",
       "0                     4      0  \n",
       "1                     1      8  \n",
       "2                     5      0  \n",
       "3                     5      0  \n",
       "4                     2      8  "
      ]
     },
     "execution_count": 5,
     "metadata": {},
     "output_type": "execute_result"
    }
   ],
   "source": [
    "train.head()"
   ]
  },
  {
   "cell_type": "code",
   "execution_count": 6,
   "id": "promotional-vintage",
   "metadata": {},
   "outputs": [
    {
     "name": "stdout",
     "output_type": "stream",
     "text": [
      "<class 'pandas.core.frame.DataFrame'>\n",
      "RangeIndex: 50876 entries, 0 to 50875\n",
      "Data columns (total 12 columns):\n",
      " #   Column                Non-Null Count  Dtype \n",
      "---  ------                --------------  ----- \n",
      " 0   review_id             50876 non-null  int64 \n",
      " 1   city                  47525 non-null  object\n",
      " 2   position              46218 non-null  object\n",
      " 3   positive              50837 non-null  object\n",
      " 4   negative              50739 non-null  object\n",
      " 5   salary_rating         50876 non-null  int64 \n",
      " 6   team_rating           50876 non-null  int64 \n",
      " 7   managment_rating      50876 non-null  int64 \n",
      " 8   career_rating         50876 non-null  int64 \n",
      " 9   workplace_rating      50876 non-null  int64 \n",
      " 10  rest_recovery_rating  50876 non-null  int64 \n",
      " 11  target                50876 non-null  object\n",
      "dtypes: int64(7), object(5)\n",
      "memory usage: 4.7+ MB\n"
     ]
    }
   ],
   "source": [
    "train.info()"
   ]
  },
  {
   "cell_type": "code",
   "execution_count": 8,
   "id": "speaking-hydrogen",
   "metadata": {},
   "outputs": [
    {
     "data": {
      "text/html": [
       "<div>\n",
       "<style scoped>\n",
       "    .dataframe tbody tr th:only-of-type {\n",
       "        vertical-align: middle;\n",
       "    }\n",
       "\n",
       "    .dataframe tbody tr th {\n",
       "        vertical-align: top;\n",
       "    }\n",
       "\n",
       "    .dataframe thead th {\n",
       "        text-align: right;\n",
       "    }\n",
       "</style>\n",
       "<table border=\"1\" class=\"dataframe\">\n",
       "  <thead>\n",
       "    <tr style=\"text-align: right;\">\n",
       "      <th></th>\n",
       "      <th>review_id</th>\n",
       "      <th>salary_rating</th>\n",
       "      <th>team_rating</th>\n",
       "      <th>managment_rating</th>\n",
       "      <th>career_rating</th>\n",
       "      <th>workplace_rating</th>\n",
       "      <th>rest_recovery_rating</th>\n",
       "    </tr>\n",
       "  </thead>\n",
       "  <tbody>\n",
       "    <tr>\n",
       "      <th>count</th>\n",
       "      <td>50876.000000</td>\n",
       "      <td>50876.000000</td>\n",
       "      <td>50876.000000</td>\n",
       "      <td>50876.000000</td>\n",
       "      <td>50876.000000</td>\n",
       "      <td>50876.000000</td>\n",
       "      <td>50876.000000</td>\n",
       "    </tr>\n",
       "    <tr>\n",
       "      <th>mean</th>\n",
       "      <td>96570.377369</td>\n",
       "      <td>3.444827</td>\n",
       "      <td>4.144548</td>\n",
       "      <td>3.520226</td>\n",
       "      <td>3.386115</td>\n",
       "      <td>3.728025</td>\n",
       "      <td>3.409781</td>\n",
       "    </tr>\n",
       "    <tr>\n",
       "      <th>std</th>\n",
       "      <td>55769.347840</td>\n",
       "      <td>1.478828</td>\n",
       "      <td>1.275873</td>\n",
       "      <td>1.592045</td>\n",
       "      <td>1.558145</td>\n",
       "      <td>1.457538</td>\n",
       "      <td>1.612926</td>\n",
       "    </tr>\n",
       "    <tr>\n",
       "      <th>min</th>\n",
       "      <td>0.000000</td>\n",
       "      <td>1.000000</td>\n",
       "      <td>1.000000</td>\n",
       "      <td>1.000000</td>\n",
       "      <td>0.000000</td>\n",
       "      <td>1.000000</td>\n",
       "      <td>1.000000</td>\n",
       "    </tr>\n",
       "    <tr>\n",
       "      <th>25%</th>\n",
       "      <td>48183.750000</td>\n",
       "      <td>2.000000</td>\n",
       "      <td>4.000000</td>\n",
       "      <td>2.000000</td>\n",
       "      <td>2.000000</td>\n",
       "      <td>3.000000</td>\n",
       "      <td>2.000000</td>\n",
       "    </tr>\n",
       "    <tr>\n",
       "      <th>50%</th>\n",
       "      <td>96594.500000</td>\n",
       "      <td>4.000000</td>\n",
       "      <td>5.000000</td>\n",
       "      <td>4.000000</td>\n",
       "      <td>4.000000</td>\n",
       "      <td>4.000000</td>\n",
       "      <td>4.000000</td>\n",
       "    </tr>\n",
       "    <tr>\n",
       "      <th>75%</th>\n",
       "      <td>145021.250000</td>\n",
       "      <td>5.000000</td>\n",
       "      <td>5.000000</td>\n",
       "      <td>5.000000</td>\n",
       "      <td>5.000000</td>\n",
       "      <td>5.000000</td>\n",
       "      <td>5.000000</td>\n",
       "    </tr>\n",
       "    <tr>\n",
       "      <th>max</th>\n",
       "      <td>192828.000000</td>\n",
       "      <td>5.000000</td>\n",
       "      <td>5.000000</td>\n",
       "      <td>5.000000</td>\n",
       "      <td>5.000000</td>\n",
       "      <td>5.000000</td>\n",
       "      <td>5.000000</td>\n",
       "    </tr>\n",
       "  </tbody>\n",
       "</table>\n",
       "</div>"
      ],
      "text/plain": [
       "           review_id  salary_rating   team_rating  managment_rating  \\\n",
       "count   50876.000000   50876.000000  50876.000000      50876.000000   \n",
       "mean    96570.377369       3.444827      4.144548          3.520226   \n",
       "std     55769.347840       1.478828      1.275873          1.592045   \n",
       "min         0.000000       1.000000      1.000000          1.000000   \n",
       "25%     48183.750000       2.000000      4.000000          2.000000   \n",
       "50%     96594.500000       4.000000      5.000000          4.000000   \n",
       "75%    145021.250000       5.000000      5.000000          5.000000   \n",
       "max    192828.000000       5.000000      5.000000          5.000000   \n",
       "\n",
       "       career_rating  workplace_rating  rest_recovery_rating  \n",
       "count   50876.000000      50876.000000          50876.000000  \n",
       "mean        3.386115          3.728025              3.409781  \n",
       "std         1.558145          1.457538              1.612926  \n",
       "min         0.000000          1.000000              1.000000  \n",
       "25%         2.000000          3.000000              2.000000  \n",
       "50%         4.000000          4.000000              4.000000  \n",
       "75%         5.000000          5.000000              5.000000  \n",
       "max         5.000000          5.000000              5.000000  "
      ]
     },
     "execution_count": 8,
     "metadata": {},
     "output_type": "execute_result"
    }
   ],
   "source": [
    "train.describe()"
   ]
  },
  {
   "cell_type": "code",
   "execution_count": 17,
   "id": "foster-royal",
   "metadata": {},
   "outputs": [
    {
     "data": {
      "text/html": [
       "<div>\n",
       "<style scoped>\n",
       "    .dataframe tbody tr th:only-of-type {\n",
       "        vertical-align: middle;\n",
       "    }\n",
       "\n",
       "    .dataframe tbody tr th {\n",
       "        vertical-align: top;\n",
       "    }\n",
       "\n",
       "    .dataframe thead th {\n",
       "        text-align: right;\n",
       "    }\n",
       "</style>\n",
       "<table border=\"1\" class=\"dataframe\">\n",
       "  <thead>\n",
       "    <tr style=\"text-align: right;\">\n",
       "      <th></th>\n",
       "      <th>review_id</th>\n",
       "      <th>city</th>\n",
       "      <th>position</th>\n",
       "      <th>positive</th>\n",
       "      <th>negative</th>\n",
       "      <th>salary_rating</th>\n",
       "      <th>team_rating</th>\n",
       "      <th>managment_rating</th>\n",
       "      <th>career_rating</th>\n",
       "      <th>workplace_rating</th>\n",
       "      <th>rest_recovery_rating</th>\n",
       "    </tr>\n",
       "  </thead>\n",
       "  <tbody>\n",
       "    <tr>\n",
       "      <th>0</th>\n",
       "      <td>3</td>\n",
       "      <td>Москва</td>\n",
       "      <td>Старший специалист</td>\n",
       "      <td>Свобода в выборе рабочего графика, условия труда</td>\n",
       "      <td>****** всегда стремится к улучшению всего</td>\n",
       "      <td>5</td>\n",
       "      <td>5</td>\n",
       "      <td>5</td>\n",
       "      <td>5</td>\n",
       "      <td>5</td>\n",
       "      <td>5</td>\n",
       "    </tr>\n",
       "    <tr>\n",
       "      <th>1</th>\n",
       "      <td>4</td>\n",
       "      <td>Москва</td>\n",
       "      <td>Менеджер по персоналу</td>\n",
       "      <td>Компания делает ставки на молодых и перспективных</td>\n",
       "      <td>Слабая оснащённость рабочих мест, отсутствие Д...</td>\n",
       "      <td>4</td>\n",
       "      <td>5</td>\n",
       "      <td>4</td>\n",
       "      <td>5</td>\n",
       "      <td>4</td>\n",
       "      <td>4</td>\n",
       "    </tr>\n",
       "    <tr>\n",
       "      <th>2</th>\n",
       "      <td>13</td>\n",
       "      <td>Тверь</td>\n",
       "      <td>Тренинг-менеджер</td>\n",
       "      <td>Есть возможность для  развития</td>\n",
       "      <td>Увеличить уровень дохода</td>\n",
       "      <td>2</td>\n",
       "      <td>5</td>\n",
       "      <td>5</td>\n",
       "      <td>5</td>\n",
       "      <td>5</td>\n",
       "      <td>5</td>\n",
       "    </tr>\n",
       "    <tr>\n",
       "      <th>3</th>\n",
       "      <td>14</td>\n",
       "      <td>Уфа</td>\n",
       "      <td>Специалист отдела кадров</td>\n",
       "      <td>Хороший коллектив, размереная работа, нет пере...</td>\n",
       "      <td>Обучение сотрудников,  ротацию кадров, увеличе...</td>\n",
       "      <td>2</td>\n",
       "      <td>5</td>\n",
       "      <td>5</td>\n",
       "      <td>2</td>\n",
       "      <td>4</td>\n",
       "      <td>4</td>\n",
       "    </tr>\n",
       "    <tr>\n",
       "      <th>4</th>\n",
       "      <td>17</td>\n",
       "      <td>Москва</td>\n",
       "      <td>Бизнес-аналитик</td>\n",
       "      <td>Гибкость в рабочем графике, коллектив.</td>\n",
       "      <td>Уровень представленности HR-бренда.</td>\n",
       "      <td>5</td>\n",
       "      <td>5</td>\n",
       "      <td>5</td>\n",
       "      <td>5</td>\n",
       "      <td>5</td>\n",
       "      <td>5</td>\n",
       "    </tr>\n",
       "  </tbody>\n",
       "</table>\n",
       "</div>"
      ],
      "text/plain": [
       "   review_id    city                  position  \\\n",
       "0          3  Москва        Старший специалист   \n",
       "1          4  Москва     Менеджер по персоналу   \n",
       "2         13   Тверь          Тренинг-менеджер   \n",
       "3         14     Уфа  Специалист отдела кадров   \n",
       "4         17  Москва           Бизнес-аналитик   \n",
       "\n",
       "                                            positive  \\\n",
       "0   Свобода в выборе рабочего графика, условия труда   \n",
       "1  Компания делает ставки на молодых и перспективных   \n",
       "2                     Есть возможность для  развития   \n",
       "3  Хороший коллектив, размереная работа, нет пере...   \n",
       "4             Гибкость в рабочем графике, коллектив.   \n",
       "\n",
       "                                            negative  salary_rating  \\\n",
       "0          ****** всегда стремится к улучшению всего              5   \n",
       "1  Слабая оснащённость рабочих мест, отсутствие Д...              4   \n",
       "2                           Увеличить уровень дохода              2   \n",
       "3  Обучение сотрудников,  ротацию кадров, увеличе...              2   \n",
       "4                Уровень представленности HR-бренда.              5   \n",
       "\n",
       "   team_rating  managment_rating  career_rating  workplace_rating  \\\n",
       "0            5                 5              5                 5   \n",
       "1            5                 4              5                 4   \n",
       "2            5                 5              5                 5   \n",
       "3            5                 5              2                 4   \n",
       "4            5                 5              5                 5   \n",
       "\n",
       "   rest_recovery_rating  \n",
       "0                     5  \n",
       "1                     4  \n",
       "2                     5  \n",
       "3                     4  \n",
       "4                     5  "
      ]
     },
     "execution_count": 17,
     "metadata": {},
     "output_type": "execute_result"
    }
   ],
   "source": [
    "test.head()"
   ]
  },
  {
   "cell_type": "code",
   "execution_count": 18,
   "id": "hidden-winning",
   "metadata": {},
   "outputs": [
    {
     "name": "stdout",
     "output_type": "stream",
     "text": [
      "<class 'pandas.core.frame.DataFrame'>\n",
      "RangeIndex: 50651 entries, 0 to 50650\n",
      "Data columns (total 11 columns):\n",
      " #   Column                Non-Null Count  Dtype \n",
      "---  ------                --------------  ----- \n",
      " 0   review_id             50651 non-null  int64 \n",
      " 1   city                  47558 non-null  object\n",
      " 2   position              48424 non-null  object\n",
      " 3   positive              50650 non-null  object\n",
      " 4   negative              50648 non-null  object\n",
      " 5   salary_rating         50651 non-null  int64 \n",
      " 6   team_rating           50651 non-null  int64 \n",
      " 7   managment_rating      50651 non-null  int64 \n",
      " 8   career_rating         50651 non-null  int64 \n",
      " 9   workplace_rating      50651 non-null  int64 \n",
      " 10  rest_recovery_rating  50651 non-null  int64 \n",
      "dtypes: int64(7), object(4)\n",
      "memory usage: 4.3+ MB\n"
     ]
    }
   ],
   "source": [
    "test.info()"
   ]
  },
  {
   "cell_type": "code",
   "execution_count": 19,
   "id": "happy-validity",
   "metadata": {},
   "outputs": [
    {
     "data": {
      "text/html": [
       "<div>\n",
       "<style scoped>\n",
       "    .dataframe tbody tr th:only-of-type {\n",
       "        vertical-align: middle;\n",
       "    }\n",
       "\n",
       "    .dataframe tbody tr th {\n",
       "        vertical-align: top;\n",
       "    }\n",
       "\n",
       "    .dataframe thead th {\n",
       "        text-align: right;\n",
       "    }\n",
       "</style>\n",
       "<table border=\"1\" class=\"dataframe\">\n",
       "  <thead>\n",
       "    <tr style=\"text-align: right;\">\n",
       "      <th></th>\n",
       "      <th>review_id</th>\n",
       "      <th>salary_rating</th>\n",
       "      <th>team_rating</th>\n",
       "      <th>managment_rating</th>\n",
       "      <th>career_rating</th>\n",
       "      <th>workplace_rating</th>\n",
       "      <th>rest_recovery_rating</th>\n",
       "    </tr>\n",
       "  </thead>\n",
       "  <tbody>\n",
       "    <tr>\n",
       "      <th>count</th>\n",
       "      <td>50651.000000</td>\n",
       "      <td>50651.000000</td>\n",
       "      <td>50651.000000</td>\n",
       "      <td>50651.000000</td>\n",
       "      <td>50651.000000</td>\n",
       "      <td>50651.000000</td>\n",
       "      <td>50651.000000</td>\n",
       "    </tr>\n",
       "    <tr>\n",
       "      <th>mean</th>\n",
       "      <td>96025.555527</td>\n",
       "      <td>3.316736</td>\n",
       "      <td>4.126098</td>\n",
       "      <td>3.475687</td>\n",
       "      <td>3.314584</td>\n",
       "      <td>3.700855</td>\n",
       "      <td>3.302008</td>\n",
       "    </tr>\n",
       "    <tr>\n",
       "      <th>std</th>\n",
       "      <td>55548.868165</td>\n",
       "      <td>1.452530</td>\n",
       "      <td>1.281285</td>\n",
       "      <td>1.586697</td>\n",
       "      <td>1.550043</td>\n",
       "      <td>1.460323</td>\n",
       "      <td>1.610658</td>\n",
       "    </tr>\n",
       "    <tr>\n",
       "      <th>min</th>\n",
       "      <td>3.000000</td>\n",
       "      <td>1.000000</td>\n",
       "      <td>1.000000</td>\n",
       "      <td>1.000000</td>\n",
       "      <td>0.000000</td>\n",
       "      <td>1.000000</td>\n",
       "      <td>1.000000</td>\n",
       "    </tr>\n",
       "    <tr>\n",
       "      <th>25%</th>\n",
       "      <td>47736.000000</td>\n",
       "      <td>2.000000</td>\n",
       "      <td>4.000000</td>\n",
       "      <td>2.000000</td>\n",
       "      <td>2.000000</td>\n",
       "      <td>3.000000</td>\n",
       "      <td>2.000000</td>\n",
       "    </tr>\n",
       "    <tr>\n",
       "      <th>50%</th>\n",
       "      <td>95875.000000</td>\n",
       "      <td>3.000000</td>\n",
       "      <td>5.000000</td>\n",
       "      <td>4.000000</td>\n",
       "      <td>4.000000</td>\n",
       "      <td>4.000000</td>\n",
       "      <td>4.000000</td>\n",
       "    </tr>\n",
       "    <tr>\n",
       "      <th>75%</th>\n",
       "      <td>143999.000000</td>\n",
       "      <td>5.000000</td>\n",
       "      <td>5.000000</td>\n",
       "      <td>5.000000</td>\n",
       "      <td>5.000000</td>\n",
       "      <td>5.000000</td>\n",
       "      <td>5.000000</td>\n",
       "    </tr>\n",
       "    <tr>\n",
       "      <th>max</th>\n",
       "      <td>192833.000000</td>\n",
       "      <td>5.000000</td>\n",
       "      <td>5.000000</td>\n",
       "      <td>5.000000</td>\n",
       "      <td>5.000000</td>\n",
       "      <td>5.000000</td>\n",
       "      <td>5.000000</td>\n",
       "    </tr>\n",
       "  </tbody>\n",
       "</table>\n",
       "</div>"
      ],
      "text/plain": [
       "           review_id  salary_rating   team_rating  managment_rating  \\\n",
       "count   50651.000000   50651.000000  50651.000000      50651.000000   \n",
       "mean    96025.555527       3.316736      4.126098          3.475687   \n",
       "std     55548.868165       1.452530      1.281285          1.586697   \n",
       "min         3.000000       1.000000      1.000000          1.000000   \n",
       "25%     47736.000000       2.000000      4.000000          2.000000   \n",
       "50%     95875.000000       3.000000      5.000000          4.000000   \n",
       "75%    143999.000000       5.000000      5.000000          5.000000   \n",
       "max    192833.000000       5.000000      5.000000          5.000000   \n",
       "\n",
       "       career_rating  workplace_rating  rest_recovery_rating  \n",
       "count   50651.000000      50651.000000          50651.000000  \n",
       "mean        3.314584          3.700855              3.302008  \n",
       "std         1.550043          1.460323              1.610658  \n",
       "min         0.000000          1.000000              1.000000  \n",
       "25%         2.000000          3.000000              2.000000  \n",
       "50%         4.000000          4.000000              4.000000  \n",
       "75%         5.000000          5.000000              5.000000  \n",
       "max         5.000000          5.000000              5.000000  "
      ]
     },
     "execution_count": 19,
     "metadata": {},
     "output_type": "execute_result"
    }
   ],
   "source": [
    "test.describe()"
   ]
  },
  {
   "cell_type": "markdown",
   "id": "blessed-theta",
   "metadata": {},
   "source": [
    " "
   ]
  },
  {
   "cell_type": "markdown",
   "id": "nutritional-niagara",
   "metadata": {},
   "source": [
    " "
   ]
  },
  {
   "cell_type": "markdown",
   "id": "solid-youth",
   "metadata": {},
   "source": [
    " "
   ]
  },
  {
   "cell_type": "code",
   "execution_count": 20,
   "id": "removable-entry",
   "metadata": {},
   "outputs": [],
   "source": [
    "train_positive_texts = list(train[\"positive\"])\n",
    "train_negative_texts = list(train[\"negative\"])\n",
    "\n",
    "test_positive_texts = list(test[\"positive\"])\n",
    "test_negative_texts = list(test[\"negative\"])"
   ]
  },
  {
   "cell_type": "code",
   "execution_count": 24,
   "id": "eleven-tiffany",
   "metadata": {},
   "outputs": [
    {
     "data": {
      "text/plain": [
       "(False, False, False, False)"
      ]
     },
     "execution_count": 24,
     "metadata": {},
     "output_type": "execute_result"
    }
   ],
   "source": [
    "\"\" in test_positive_texts, \" \" in test_positive_texts, \"\" in test_negative_texts, \" \" in test_negative_texts"
   ]
  },
  {
   "cell_type": "code",
   "execution_count": 28,
   "id": "respective-firewall",
   "metadata": {},
   "outputs": [],
   "source": [
    "test_pos_lens = list(map(lambda x: len(str(x)), test_positive_texts))"
   ]
  },
  {
   "cell_type": "code",
   "execution_count": 33,
   "id": "liquid-vietnamese",
   "metadata": {},
   "outputs": [],
   "source": [
    "min_len, max_len = min(test_pos_lens), max(test_pos_lens)"
   ]
  },
  {
   "cell_type": "code",
   "execution_count": 35,
   "id": "wired-oxford",
   "metadata": {},
   "outputs": [
    {
     "name": "stdout",
     "output_type": "stream",
     "text": [
      "Max len: The standard Lorem Ipsum passage, used since the 1500s \"Lorem ipsum dolor sit amet, consectetur adipiscing elit, sed do eiusmod tempor incididunt ut labore et dolore magna aliqua. Ut enim ad minim veniam, quis nostrud exercitation ullamco laboris nisi ut aliquip ex ea commodo consequat. Duis aute irure dolor in reprehenderit in voluptate velit esse cillum dolore eu fugiat nulla pariatur. Excepteur sint occaecat cupidatat non proident, sunt in culpa qui officia deserunt mollit anim id est laborum.\" Section 1.10.32 of \"de Finibus Bonorum et Malorum\", written by Cicero in 45 BC \"Sed ut perspiciatis unde omnis iste natus error sit voluptatem accusantium doloremque laudantium, totam rem aperiam, eaque ipsa quae ab illo inventore veritatis et quasi architecto beatae vitae dicta sunt explicabo. Nemo enim ipsam voluptatem quia voluptas sit aspernatur aut odit aut fugit, sed quia consequuntur magni dolores eos qui ratione voluptatem sequi nesciunt. Neque porro quisquam est, qui dolorem ipsum quia dolor sit amet, consectetur, adipisci velit, sed quia non numquam eius modi tempora incidunt ut labore et dolore magnam aliquam quaerat voluptatem. Ut enim ad minima veniam, quis nostrum exercitationem ullam corporis suscipit laboriosam, nisi ut aliquid ex ea commodi consequatur? Quis autem vel eum iure reprehenderit qui in ea voluptate velit esse quam nihil molestiae consequatur, vel illum qui dolorem eum fugiat quo voluptas nulla pariatur?\" 1914 translation by H. Rackham \"But I must explain to you how all this mistaken idea of denouncing pleasure and praising pain was born and I will give you a complete account of the system, and expound the actual teachings of the great explorer of the truth, the master-builder of human happiness. No one rejects, dislikes, or avoids pleasure itself, because it is pleasure, but because those who do not know how to pursue pleasure rationally encounter consequences that are extremely painful. Nor again is there anyone who loves or pursues or desires to obtain pain of itself, because it is pain, but because occasionally circumstances occur in which toil and pain can procure him some great pleasure. To take a trivial example, which of us ever undertakes laborious physical exercise, except to obtain some advantage from it? But who has any right to find fault with a man who chooses to enjoy a pleasure that has no annoying consequences, or one who avoids a pain that produces no resultant pleasure?\" Section 1.10.33 of \"de Finibus Bonorum et Malorum\", written by Cicero in 45 BC \"At vero eos et accusamus et iusto odio dignissimos ducimus qui blanditiis praesentium voluptatum deleniti atque corrupti quos dolores et quas molestias excepturi sint occaecati cupiditate non provident, similique sunt in culpa qui officia deserunt mollitia animi, id est laborum et dolorum fuga. Et harum quidem rerum facilis est et expedita distinctio. Nam libero tempore, cum soluta nobis est eligendi optio cumque nihil impedit quo minus id quod maxime placeat facere possimus, omnis voluptas assumenda est, omnis dolor repellendus. Temporibus autem quibusdam et aut officiis debitis aut rerum necessitatibus saepe eveniet ut et voluptates repudiandae sint et molestiae non recusandae. Itaque earum rerum hic tenetur a sapiente delectus, ut aut reiciendis voluptatibus maiores alias consequatur aut perferendis doloribus asperiores repellat.\" 1914 translation by H. Rackham \"On the other hand, we denounce with righteous indignation and dislike men who are so beguiled and demoralized by the charms of pleasure of the moment, so blinded by desire, that they cannot foresee the pain and trouble that are bound to ensue; and equal blame belongs to those who fail in their duty through weakness of will, which is the same as saying through shrinking from toil and pain. These cases are perfectly simple and easy to distinguish. In a free hour, when our power of choice is untrammelled and when nothing prevents our being able to do what we like best, every pleasure is to be welcomed and every pain avoided. But in certain circumstances and owing to the claims of duty or the obligations of business it will frequently occur that pleasures have to be repudiated and annoyances accepted. The wise man therefore always holds in these matters to this principle of selection: he rejects pleasures to secure other greater pleasures, or else he endures pains to avoid worse pains.\"\n",
      "\n",
      "Not str: nan\n",
      "\n"
     ]
    }
   ],
   "source": [
    "for _text in test_positive_texts:\n",
    "    if type(_text) is not str:\n",
    "        print(\"Not str:\", _text, end=\"\\n\\n\")\n",
    "    elif len(_text) == min_len:\n",
    "        print(\"Min len:\", _text, end=\"\\n\\n\")\n",
    "    elif len(_text) == max_len:\n",
    "        print(\"Max len:\", _text, end=\"\\n\\n\")"
   ]
  },
  {
   "cell_type": "code",
   "execution_count": 46,
   "id": "established-original",
   "metadata": {},
   "outputs": [
    {
     "name": "stdout",
     "output_type": "stream",
     "text": [
      "Min len: *†********†****************\n",
      "\n",
      "Min len: ************************\n",
      "\n",
      "Min len: Мой прямой руководитель, все остальные - ********\n",
      "\n",
      "Min len: ***************************\n",
      "\n",
      "Min len: ********************************\n",
      "\n",
      "Min len: ********************\n",
      "\n",
      "Min len: ***************************************************************\n",
      "\n",
      "Min len: *********************\n",
      "\n",
      "Min len: —+++++++++**********\n",
      "\n",
      "Min len: Ни чего ********************************************+++++++**+********\n",
      "\n",
      "Min len: *************************\n",
      "\n",
      "Min len: ********************\n",
      "\n",
      "Not str: nan\n",
      "\n",
      "Min len: *************************\n",
      "\n",
      "Min len: ************************\n",
      "\n"
     ]
    }
   ],
   "source": [
    "for _text in test_positive_texts:\n",
    "    if type(_text) is not str:\n",
    "        print(\"Not str:\", _text, end=\"\\n\\n\")\n",
    "    elif len(_text) in _text:\n",
    "        print(\"Min len:\", _text, end=\"\\n\\n\")"
   ]
  },
  {
   "cell_type": "code",
   "execution_count": null,
   "id": "alternative-immunology",
   "metadata": {},
   "outputs": [],
   "source": []
  },
  {
   "cell_type": "code",
   "execution_count": 8,
   "id": "stone-connection",
   "metadata": {},
   "outputs": [
    {
     "name": "stdout",
     "output_type": "stream",
     "text": [
      "\n",
      "Please wait a moment while I gather a list of all available modules...\n",
      "\n"
     ]
    },
    {
     "name": "stderr",
     "output_type": "stream",
     "text": [
      "/usr/local/lib/python3.8/dist-packages/IPython/kernel/__init__.py:12: ShimWarning: The `IPython.kernel` package has been deprecated since IPython 4.0.You should import from ipykernel or jupyter_client instead.\n",
      "  warn(\"The `IPython.kernel` package has been deprecated since IPython 4.0.\"\n",
      "/usr/lib/python3.8/pkgutil.py:107: VisibleDeprecationWarning: zmq.eventloop.minitornado is deprecated in pyzmq 14.0 and will be removed.\n",
      "    Install tornado itself to use zmq with the tornado IOLoop.\n",
      "    \n",
      "  yield from walk_packages(path, info.name+'.', onerror)\n",
      "/usr/lib/python3/dist-packages/UpdateManager/backend/__init__.py:11: PyGIWarning: Gtk was imported without specifying a version first. Use gi.require_version('Gtk', '3.0') before import to ensure that the right version gets loaded.\n",
      "  from gi.repository import GLib, Gtk, Snapd\n"
     ]
    },
    {
     "name": "stdout",
     "output_type": "stream",
     "text": [
      "AptUrl              array               ipaddress           reportlab\n",
      "CommandNotFound     ast                 ipykernel           reprlib\n",
      "DistUpgrade         async_generator     ipykernel_launcher  requests\n",
      "HweSupportStatus    asynchat            ipython_genutils    requests_unixsocket\n",
      "IPython             asyncio             ipywidgets          resource\n",
      "LanguageSelector    asyncore            itertools           rlcompleter\n",
      "NvidiaDetector      atexit              janitor             rmagic\n",
      "PIL                 attr                jedi                runpy\n",
      "Quirks              audioop             jinja2              scanext\n",
      "UbuntuDrivers       autoreload          joblib              sched\n",
      "UpdateManager       backcall            json                scipy\n",
      "__future__          base64              jsonschema          secrets\n",
      "_abc                bdb                 jupyter             secretstorage\n",
      "_ast                binascii            jupyter_client      select\n",
      "_asyncio            binhex              jupyter_console     selectors\n",
      "_bisect             bisect              jupyter_core        send2trash\n",
      "_blake2             bleach              jupyterlab_pygments setuptools\n",
      "_bootlocale         blinker             jupyterlab_widgets  shelve\n",
      "_bz2                brlapi              jwt                 shlex\n",
      "_cffi_backend       bs4                 keyring             shutil\n",
      "_codecs             builtins            keyword             signal\n",
      "_codecs_cn          bz2                 language_support_pkgs simplejson\n",
      "_codecs_hk          cProfile            launchpadlib        site\n",
      "_codecs_iso2022     cairo               ldb                 sitecustomize\n",
      "_codecs_jp          calendar            lib2to3             six\n",
      "_codecs_kr          certifi             lightgbm            sklearn\n",
      "_codecs_tw          cffi                linecache           smtpd\n",
      "_collections        cgi                 locale              smtplib\n",
      "_collections_abc    cgitb               logging             sndhdr\n",
      "_compat_pickle      chardet             louis               socket\n",
      "_compression        chunk               lsb_release         socketserver\n",
      "_contextvars        click               lxml                softwareproperties\n",
      "_crypt              cmath               lzma                soupsieve\n",
      "_csv                cmd                 macaroonbakery      speechd\n",
      "_ctypes             code                mailbox             speechd_config\n",
      "_ctypes_test        codecs              mailcap             spwd\n",
      "_curses             codeop              markupsafe          sqlite3\n",
      "_curses_panel       collections         marshal             sre_compile\n",
      "_datetime           colorama            math                sre_constants\n",
      "_dbm                colorsys            mimetypes           sre_parse\n",
      "_dbus_bindings      compdb              mistune             ssl\n",
      "_dbus_glib_bindings compileall          mmap                stat\n",
      "_decimal            concurrent          modulefinder        statistics\n",
      "_dummy_thread       configparser        multiprocessing     storemagic\n",
      "_elementtree        contextlib          nacl                string\n",
      "_functools          contextvars         nbclient            stringprep\n",
      "_gdbm               copy                nbconvert           struct\n",
      "_hashlib            copyreg             nbformat            subprocess\n",
      "_heapq              crypt               nest_asyncio        sunau\n",
      "_imp                cryptography        netifaces           symbol\n",
      "_io                 csv                 netrc               sympyprinting\n",
      "_json               ctypes              nis                 symtable\n",
      "_ldb_text           cups                nntplib             sys\n",
      "_locale             cupsext             notebook            sysconfig\n",
      "_lsprof             cupshelpers         ntpath              syslog\n",
      "_lzma               curses              nturl2path          systemd\n",
      "_markupbase         cythonmagic         numbers             tabnanny\n",
      "_md5                dataclasses         numpy               talloc\n",
      "_multibytecodec     datetime            oauthlib            tarfile\n",
      "_multiprocessing    dateutil            olefile             telnetlib\n",
      "_opcode             dbm                 opcode              tempfile\n",
      "_operator           dbus                operator            terminado\n",
      "_osx_support        deb822              optparse            termios\n",
      "_pickle             debconf             orca                test\n",
      "_posixshmem         debian              os                  testpath\n",
      "_posixsubprocess    debian_bundle       ossaudiodev         tests\n",
      "_py_abc             decimal             packaging           textwrap\n",
      "_pydecimal          decorator           pandas              this\n",
      "_pyio               defer               pandocfilters       threading\n",
      "_pyrsistent_version defusedxml          parser              threadpoolctl\n",
      "_queue              difflib             parso               time\n",
      "_random             dis                 pathlib             timeit\n",
      "_sha1               distlib             pcardext            tkinter\n",
      "_sha256             distro              pdb                 token\n",
      "_sha3               distro_info         pexpect             tokenize\n",
      "_sha512             distutils           pickle              tornado\n",
      "_signal             doctest             pickleshare         trace\n",
      "_sitebuiltins       dummy_threading     pickletools         traceback\n",
      "_socket             easy_install        pip                 tracemalloc\n",
      "_sqlite3            email               pipes               traitlets\n",
      "_sre                encodings           pkg_resources       tty\n",
      "_ssl                ensurepip           pkgutil             turtle\n",
      "_stat               entrypoints         platform            types\n",
      "_statistics         enum                plistlib            typing\n",
      "_string             errno               poplib              uaclient\n",
      "_strptime           faulthandler        posix               ufw\n",
      "_struct             fcntl               posixpath           unicodedata\n",
      "_symtable           filecmp             pprint              unittest\n",
      "_sysconfigdata__linux_x86_64-linux-gnu fileinput           problem_report      uno\n",
      "_sysconfigdata__x86_64-linux-gnu filelock            profile             unohelper\n",
      "_testbuffer         fnmatch             prometheus_client   urllib\n",
      "_testcapi           formatter           prompt_toolkit      urllib3\n",
      "_testimportmultiple fractions           pstats              uu\n",
      "_testinternalcapi   ftplib              pty                 uuid\n",
      "_testmultiphase     functools           ptyprocess          venv\n",
      "_thread             gc                  pvectorc            virtualenv\n",
      "_threading_local    genericpath         pwd                 wadllib\n",
      "_tkinter            getopt              py_compile          warnings\n",
      "_tracemalloc        getpass             pyatspi             wave\n",
      "_uuid               gettext             pyclbr              wcwidth\n",
      "_warnings           gi                  pycparser           weakref\n",
      "_weakref            glob                pydoc               webbrowser\n",
      "_weakrefset         grobid_client       pydoc_data          webencodings\n",
      "_xxsubinterpreters  grp                 pyexpat             wheel\n",
      "_xxtestfuzz         gzip                pygments            widgetsnbextension\n",
      "_yaml               hashlib             pygtkcompat         wsgiref\n",
      "abc                 heapq               pymacaroons         xdg\n",
      "aifc                hmac                pyparsing           xdrlib\n",
      "antigravity         hpmudext            pyrfc3339           xkit\n",
      "appdirs             html                pyrsistent          xml\n",
      "apport              http                pytesseract         xmlrpc\n",
      "apport_python_hook  httplib2            pytz                xxlimited\n",
      "apt                 idna                qtconsole           xxsubtype\n",
      "apt_inst            imaplib             qtpy                yaml\n",
      "apt_pkg             imghdr              queue               zipapp\n",
      "aptdaemon           imp                 quopri              zipfile\n",
      "aptsources          importlib           random              zipimport\n",
      "argon2              inspect             re                  zlib\n",
      "argparse            io                  readline            zmq\n",
      "\n",
      "Enter any module name to get more help.  Or, type \"modules spam\" to search\n",
      "for modules whose name or summary contain the string \"spam\".\n",
      "\n"
     ]
    }
   ],
   "source": [
    "help('modules')"
   ]
  },
  {
   "cell_type": "code",
   "execution_count": 4,
   "id": "instructional-secondary",
   "metadata": {},
   "outputs": [
    {
     "name": "stdout",
     "output_type": "stream",
     "text": [
      "Requirement already satisfied: scikit-multilearn in /home/dmitry/kaggle/hh_boosters_2022/venv/lib/python3.8/site-packages (0.2.0)\r\n"
     ]
    }
   ],
   "source": [
    "! pip install scikit-multilearn"
   ]
  },
  {
   "cell_type": "code",
   "execution_count": 5,
   "id": "anonymous-sharp",
   "metadata": {},
   "outputs": [
    {
     "ename": "ModuleNotFoundError",
     "evalue": "No module named 'skmultilearn'",
     "output_type": "error",
     "traceback": [
      "\u001b[0;31m---------------------------------------------------------------------------\u001b[0m",
      "\u001b[0;31mModuleNotFoundError\u001b[0m                       Traceback (most recent call last)",
      "\u001b[0;32m<ipython-input-5-451c72ba1821>\u001b[0m in \u001b[0;36m<module>\u001b[0;34m\u001b[0m\n\u001b[0;32m----> 1\u001b[0;31m \u001b[0;32mfrom\u001b[0m \u001b[0mskmultilearn\u001b[0m\u001b[0;34m.\u001b[0m\u001b[0mmodel_selection\u001b[0m \u001b[0;32mimport\u001b[0m \u001b[0miterative_train_test_split\u001b[0m\u001b[0;34m\u001b[0m\u001b[0;34m\u001b[0m\u001b[0m\n\u001b[0m",
      "\u001b[0;31mModuleNotFoundError\u001b[0m: No module named 'skmultilearn'"
     ]
    }
   ],
   "source": [
    "from skmultilearn.model_selection import iterative_train_test_split"
   ]
  },
  {
   "cell_type": "code",
   "execution_count": null,
   "id": "north-remark",
   "metadata": {},
   "outputs": [],
   "source": [
    "y = train['target']"
   ]
  },
  {
   "cell_type": "code",
   "execution_count": 51,
   "id": "approved-transcript",
   "metadata": {},
   "outputs": [
    {
     "data": {
      "text/plain": [
       "0          0\n",
       "1          8\n",
       "2          0\n",
       "3          0\n",
       "4          8\n",
       "        ... \n",
       "50871    3,8\n",
       "50872      8\n",
       "50873      8\n",
       "50874      1\n",
       "50875      0\n",
       "Name: target, Length: 50876, dtype: object"
      ]
     },
     "execution_count": 51,
     "metadata": {},
     "output_type": "execute_result"
    }
   ],
   "source": [
    "y"
   ]
  },
  {
   "cell_type": "code",
   "execution_count": null,
   "id": "subject-alert",
   "metadata": {},
   "outputs": [],
   "source": [
    "X_train, X_test, y_train, y_test = train_test_split(X, y, test_size=0.2, random_state=42)\n"
   ]
  },
  {
   "cell_type": "code",
   "execution_count": null,
   "id": "assisted-package",
   "metadata": {},
   "outputs": [],
   "source": []
  },
  {
   "cell_type": "code",
   "execution_count": null,
   "id": "global-rendering",
   "metadata": {},
   "outputs": [],
   "source": []
  },
  {
   "cell_type": "code",
   "execution_count": 26,
   "id": "worst-calcium",
   "metadata": {},
   "outputs": [],
   "source": [
    "from typing import List"
   ]
  },
  {
   "cell_type": "code",
   "execution_count": 21,
   "id": "orange-snapshot",
   "metadata": {},
   "outputs": [],
   "source": [
    "a = np.zeros(9)"
   ]
  },
  {
   "cell_type": "code",
   "execution_count": 23,
   "id": "voluntary-hebrew",
   "metadata": {},
   "outputs": [],
   "source": [
    "a[[1, 7]] = 1"
   ]
  },
  {
   "cell_type": "code",
   "execution_count": 24,
   "id": "supposed-mattress",
   "metadata": {},
   "outputs": [
    {
     "data": {
      "text/plain": [
       "array([0., 1., 0., 0., 0., 0., 0., 1., 0.])"
      ]
     },
     "execution_count": 24,
     "metadata": {},
     "output_type": "execute_result"
    }
   ],
   "source": [
    "a"
   ]
  },
  {
   "cell_type": "code",
   "execution_count": 18,
   "id": "cardiac-watershed",
   "metadata": {},
   "outputs": [],
   "source": [
    "a = np.zeros((1, 9))[:, [1, 7]] = 1"
   ]
  },
  {
   "cell_type": "code",
   "execution_count": 16,
   "id": "african-school",
   "metadata": {},
   "outputs": [],
   "source": [
    "a[:, [1, 7]] = 1"
   ]
  },
  {
   "cell_type": "code",
   "execution_count": 19,
   "id": "minimal-printing",
   "metadata": {},
   "outputs": [
    {
     "data": {
      "text/plain": [
       "1"
      ]
     },
     "execution_count": 19,
     "metadata": {},
     "output_type": "execute_result"
    }
   ],
   "source": [
    "a"
   ]
  },
  {
   "cell_type": "code",
   "execution_count": 27,
   "id": "rural-disclosure",
   "metadata": {},
   "outputs": [],
   "source": [
    "def to_one_hot(row: List[int]) -> numpy.ndarray:\n",
    "    res = np.zeros(9)\n",
    "    res[row] = 1\n",
    "    return res"
   ]
  },
  {
   "cell_type": "code",
   "execution_count": 28,
   "id": "accredited-incident",
   "metadata": {},
   "outputs": [
    {
     "data": {
      "text/plain": [
       "numpy.ndarray"
      ]
     },
     "execution_count": 28,
     "metadata": {},
     "output_type": "execute_result"
    }
   ],
   "source": [
    "type(a)"
   ]
  },
  {
   "cell_type": "code",
   "execution_count": 29,
   "id": "sound-census",
   "metadata": {},
   "outputs": [
    {
     "data": {
      "text/plain": [
       "array([0., 1., 0., 0., 0., 0., 0., 0., 0.])"
      ]
     },
     "execution_count": 29,
     "metadata": {},
     "output_type": "execute_result"
    }
   ],
   "source": [
    "to_one_hot([1])"
   ]
  },
  {
   "cell_type": "code",
   "execution_count": 30,
   "id": "automated-toronto",
   "metadata": {},
   "outputs": [
    {
     "data": {
      "text/plain": [
       "array([1., 0., 0., 0., 1., 0., 0., 0., 1.])"
      ]
     },
     "execution_count": 30,
     "metadata": {},
     "output_type": "execute_result"
    }
   ],
   "source": [
    "to_one_hot([0, 4, 8])"
   ]
  },
  {
   "cell_type": "code",
   "execution_count": null,
   "id": "duplicate-whole",
   "metadata": {},
   "outputs": [],
   "source": []
  }
 ],
 "metadata": {
  "kernelspec": {
   "display_name": "Python 3",
   "language": "python",
   "name": "python3"
  },
  "language_info": {
   "codemirror_mode": {
    "name": "ipython",
    "version": 3
   },
   "file_extension": ".py",
   "mimetype": "text/x-python",
   "name": "python",
   "nbconvert_exporter": "python",
   "pygments_lexer": "ipython3",
   "version": "3.8.10"
  }
 },
 "nbformat": 4,
 "nbformat_minor": 5
}
